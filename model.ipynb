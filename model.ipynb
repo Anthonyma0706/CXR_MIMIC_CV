{
 "cells": [
  {
   "cell_type": "code",
   "execution_count": 1,
   "metadata": {},
   "outputs": [],
   "source": [
    "import tensorflow as tf\n",
    "import numpy as np\n",
    "import cv2 as cv\n",
    "import pandas as pd\n",
    "from tqdm import tqdm\n",
    "\n",
    "from datetime import datetime\n",
    "import glob\n",
    "import math\n",
    "import matplotlib.pyplot as plt\n",
    "import matplotlib\n",
    "import numpy as np\n",
    "import os\n",
    "import pandas as pd\n",
    "from PIL import Image\n",
    "import random as python_random\n",
    "#import seaborn as sns\n",
    "from sklearn.metrics import classification_report, roc_auc_score, roc_curve, precision_recall_curve\n",
    "from sklearn.metrics import auc, accuracy_score, recall_score, precision_score, f1_score, confusion_matrix\n",
    "from sklearn.utils import shuffle\n",
    "import sys\n",
    "import tensorflow as tf\n",
    "from tensorflow.keras.optimizers import Adam\n",
    "from tensorflow.keras.layers import GlobalAveragePooling2D, Input, Dense, Activation\n",
    "from tensorflow.keras.models import Model\n",
    "from tensorflow.keras import initializers\n",
    "from tensorflow.keras.callbacks import EarlyStopping, LearningRateScheduler, ReduceLROnPlateau, ModelCheckpoint\n",
    "from tensorflow.keras.preprocessing.image import ImageDataGenerator\n",
    "from tensorflow.keras.models import load_model\n",
    "#from tensorflow.keras.mixed_precision import experimental as mixed_precision\n",
    "# pip install image-classifiers==1.0.0b1\n",
    "#from classification_models.tfkeras import Classifiers\n",
    "# More information about this package can be found at https://github.com/qubvel/classification_models\n",
    "\n",
    "#from keras.applications.resnet import ResNet50\n",
    "\n",
    "from keras.applications.vgg16 import VGG16, preprocess_input\n",
    "\n",
    "seed = 2022\n",
    "np.random.seed(seed)\n",
    "python_random.seed(seed)\n",
    "tf.random.set_seed(seed)\n"
   ]
  },
  {
   "cell_type": "code",
   "execution_count": 2,
   "metadata": {},
   "outputs": [
    {
     "data": {
      "text/html": [
       "<div>\n",
       "<style scoped>\n",
       "    .dataframe tbody tr th:only-of-type {\n",
       "        vertical-align: middle;\n",
       "    }\n",
       "\n",
       "    .dataframe tbody tr th {\n",
       "        vertical-align: top;\n",
       "    }\n",
       "\n",
       "    .dataframe thead th {\n",
       "        text-align: right;\n",
       "    }\n",
       "</style>\n",
       "<table border=\"1\" class=\"dataframe\">\n",
       "  <thead>\n",
       "    <tr style=\"text-align: right;\">\n",
       "      <th></th>\n",
       "      <th>img_index</th>\n",
       "      <th>subject_id</th>\n",
       "      <th>study_id</th>\n",
       "      <th>dataset</th>\n",
       "      <th>race</th>\n",
       "      <th>gender</th>\n",
       "      <th>age</th>\n",
       "      <th>insurance</th>\n",
       "      <th>survival_year</th>\n",
       "    </tr>\n",
       "  </thead>\n",
       "  <tbody>\n",
       "    <tr>\n",
       "      <th>0</th>\n",
       "      <td>0</td>\n",
       "      <td>11135741</td>\n",
       "      <td>52912807</td>\n",
       "      <td>train</td>\n",
       "      <td>ASIAN</td>\n",
       "      <td>M</td>\n",
       "      <td>53.0</td>\n",
       "      <td>Other</td>\n",
       "      <td>-1.00</td>\n",
       "    </tr>\n",
       "    <tr>\n",
       "      <th>1</th>\n",
       "      <td>1</td>\n",
       "      <td>13091743</td>\n",
       "      <td>51959936</td>\n",
       "      <td>train</td>\n",
       "      <td>ASIAN</td>\n",
       "      <td>M</td>\n",
       "      <td>85.0</td>\n",
       "      <td>Medicare</td>\n",
       "      <td>0.85</td>\n",
       "    </tr>\n",
       "    <tr>\n",
       "      <th>2</th>\n",
       "      <td>2</td>\n",
       "      <td>13091743</td>\n",
       "      <td>53279329</td>\n",
       "      <td>train</td>\n",
       "      <td>ASIAN</td>\n",
       "      <td>M</td>\n",
       "      <td>85.0</td>\n",
       "      <td>Medicare</td>\n",
       "      <td>0.51</td>\n",
       "    </tr>\n",
       "    <tr>\n",
       "      <th>3</th>\n",
       "      <td>3</td>\n",
       "      <td>13091743</td>\n",
       "      <td>53691912</td>\n",
       "      <td>train</td>\n",
       "      <td>ASIAN</td>\n",
       "      <td>M</td>\n",
       "      <td>85.0</td>\n",
       "      <td>Medicare</td>\n",
       "      <td>0.20</td>\n",
       "    </tr>\n",
       "    <tr>\n",
       "      <th>4</th>\n",
       "      <td>4</td>\n",
       "      <td>13091743</td>\n",
       "      <td>56124505</td>\n",
       "      <td>train</td>\n",
       "      <td>ASIAN</td>\n",
       "      <td>M</td>\n",
       "      <td>85.0</td>\n",
       "      <td>Medicare</td>\n",
       "      <td>0.68</td>\n",
       "    </tr>\n",
       "    <tr>\n",
       "      <th>...</th>\n",
       "      <td>...</td>\n",
       "      <td>...</td>\n",
       "      <td>...</td>\n",
       "      <td>...</td>\n",
       "      <td>...</td>\n",
       "      <td>...</td>\n",
       "      <td>...</td>\n",
       "      <td>...</td>\n",
       "      <td>...</td>\n",
       "    </tr>\n",
       "    <tr>\n",
       "      <th>58983</th>\n",
       "      <td>59869</td>\n",
       "      <td>19948788</td>\n",
       "      <td>54253734</td>\n",
       "      <td>test</td>\n",
       "      <td>BLACK</td>\n",
       "      <td>F</td>\n",
       "      <td>44.0</td>\n",
       "      <td>Medicaid</td>\n",
       "      <td>-1.00</td>\n",
       "    </tr>\n",
       "    <tr>\n",
       "      <th>58984</th>\n",
       "      <td>59870</td>\n",
       "      <td>19948788</td>\n",
       "      <td>56226482</td>\n",
       "      <td>test</td>\n",
       "      <td>BLACK</td>\n",
       "      <td>F</td>\n",
       "      <td>44.0</td>\n",
       "      <td>Medicaid</td>\n",
       "      <td>-1.00</td>\n",
       "    </tr>\n",
       "    <tr>\n",
       "      <th>58985</th>\n",
       "      <td>59871</td>\n",
       "      <td>19948788</td>\n",
       "      <td>58554921</td>\n",
       "      <td>test</td>\n",
       "      <td>BLACK</td>\n",
       "      <td>F</td>\n",
       "      <td>44.0</td>\n",
       "      <td>Medicaid</td>\n",
       "      <td>-1.00</td>\n",
       "    </tr>\n",
       "    <tr>\n",
       "      <th>58986</th>\n",
       "      <td>59872</td>\n",
       "      <td>19948788</td>\n",
       "      <td>58554921</td>\n",
       "      <td>test</td>\n",
       "      <td>BLACK</td>\n",
       "      <td>F</td>\n",
       "      <td>44.0</td>\n",
       "      <td>Medicaid</td>\n",
       "      <td>-1.00</td>\n",
       "    </tr>\n",
       "    <tr>\n",
       "      <th>58987</th>\n",
       "      <td>59873</td>\n",
       "      <td>19970715</td>\n",
       "      <td>52545354</td>\n",
       "      <td>train</td>\n",
       "      <td>BLACK</td>\n",
       "      <td>F</td>\n",
       "      <td>79.0</td>\n",
       "      <td>Medicaid</td>\n",
       "      <td>-1.00</td>\n",
       "    </tr>\n",
       "  </tbody>\n",
       "</table>\n",
       "<p>58988 rows × 9 columns</p>\n",
       "</div>"
      ],
      "text/plain": [
       "       img_index  subject_id  study_id dataset   race gender   age insurance  \\\n",
       "0              0    11135741  52912807   train  ASIAN      M  53.0     Other   \n",
       "1              1    13091743  51959936   train  ASIAN      M  85.0  Medicare   \n",
       "2              2    13091743  53279329   train  ASIAN      M  85.0  Medicare   \n",
       "3              3    13091743  53691912   train  ASIAN      M  85.0  Medicare   \n",
       "4              4    13091743  56124505   train  ASIAN      M  85.0  Medicare   \n",
       "...          ...         ...       ...     ...    ...    ...   ...       ...   \n",
       "58983      59869    19948788  54253734    test  BLACK      F  44.0  Medicaid   \n",
       "58984      59870    19948788  56226482    test  BLACK      F  44.0  Medicaid   \n",
       "58985      59871    19948788  58554921    test  BLACK      F  44.0  Medicaid   \n",
       "58986      59872    19948788  58554921    test  BLACK      F  44.0  Medicaid   \n",
       "58987      59873    19970715  52545354   train  BLACK      F  79.0  Medicaid   \n",
       "\n",
       "       survival_year  \n",
       "0              -1.00  \n",
       "1               0.85  \n",
       "2               0.51  \n",
       "3               0.20  \n",
       "4               0.68  \n",
       "...              ...  \n",
       "58983          -1.00  \n",
       "58984          -1.00  \n",
       "58985          -1.00  \n",
       "58986          -1.00  \n",
       "58987          -1.00  \n",
       "\n",
       "[58988 rows x 9 columns]"
      ]
     },
     "execution_count": 2,
     "metadata": {},
     "output_type": "execute_result"
    }
   ],
   "source": [
    "df_meta = pd.read_csv('data\\mimic_iv_csv\\df_race_3class_1117.csv')\n",
    "df_meta"
   ]
  },
  {
   "cell_type": "code",
   "execution_count": 16,
   "metadata": {},
   "outputs": [
    {
     "data": {
      "text/plain": [
       "train    35635\n",
       "val      11715\n",
       "test     11638\n",
       "Name: dataset, dtype: int64"
      ]
     },
     "execution_count": 16,
     "metadata": {},
     "output_type": "execute_result"
    }
   ],
   "source": [
    "df_meta['dataset'].value_counts()"
   ]
  },
  {
   "cell_type": "code",
   "execution_count": 3,
   "metadata": {},
   "outputs": [],
   "source": [
    "train_size, test_size, val_size = df_meta['dataset'].value_counts()"
   ]
  },
  {
   "cell_type": "code",
   "execution_count": 27,
   "metadata": {},
   "outputs": [],
   "source": [
    "# label_interest = 'race'\n",
    "# #num_classes = 3\n",
    "# y_train = df_meta[df_meta['dataset'] == 'train'][label_interest].tolist()\n",
    "# y_test = df_meta[df_meta['dataset'] == 'test'][label_interest].tolist()\n",
    "# y_val = df_meta[df_meta['dataset'] == 'val'][label_interest].tolist()\n",
    "\n",
    "# from sklearn.preprocessing import LabelBinarizer\n",
    "# encoder = LabelBinarizer()\n",
    "# y_train = encoder.fit_transform(y_train)\n",
    "# y_test = encoder.fit_transform(y_test)\n",
    "# y_val = encoder.fit_transform(y_val)"
   ]
  },
  {
   "cell_type": "code",
   "execution_count": 12,
   "metadata": {},
   "outputs": [],
   "source": [
    "# # load data\n",
    "# loaded = np.load('data\\X_race_split_1116.npz')\n",
    "# X_train = loaded['train']\n",
    "# X_test = loaded['test']\n",
    "# X_val = loaded['val']"
   ]
  },
  {
   "cell_type": "code",
   "execution_count": 4,
   "metadata": {},
   "outputs": [],
   "source": [
    "HEIGHT = 256\n",
    "WIDTH = 256"
   ]
  },
  {
   "cell_type": "code",
   "execution_count": 5,
   "metadata": {},
   "outputs": [
    {
     "ename": "",
     "evalue": "",
     "output_type": "error",
     "traceback": [
      "\u001b[1;31mCanceled future for execute_request message before replies were done"
     ]
    },
    {
     "ename": "",
     "evalue": "",
     "output_type": "error",
     "traceback": [
      "\u001b[1;31mThe Kernel crashed while executing code in the the current cell or a previous cell. Please review the code in the cell(s) to identify a possible cause of the failure. Click <a href='https://aka.ms/vscodeJupyterKernelCrash'>here</a> for more info. View Jupyter <a href='command:jupyter.viewOutput'>log</a> for further details."
     ]
    }
   ],
   "source": [
    "from keras.applications.resnet import ResNet50, preprocess_input\n",
    "\n",
    "input_a = Input(shape=(HEIGHT, WIDTH, 3))\n",
    "base_model = ResNet50(weights='imagenet', \n",
    "                    input_tensor=input_a,\n",
    "                    include_top=False, \n",
    "                    input_shape=(HEIGHT, WIDTH, 3)\n",
    "                    )\n",
    "\n",
    "x = GlobalAveragePooling2D()(base_model.output)\n",
    "x = Dense(3, name='dense_logits')(x)\n",
    "output = Activation('softmax', dtype='float32', name='predictions')(x)\n",
    "model = Model(inputs=[input_a], outputs=[output])"
   ]
  },
  {
   "cell_type": "code",
   "execution_count": 8,
   "metadata": {},
   "outputs": [
    {
     "ename": "",
     "evalue": "",
     "output_type": "error",
     "traceback": [
      "\u001b[1;31mCanceled future for execute_request message before replies were done"
     ]
    },
    {
     "ename": "",
     "evalue": "",
     "output_type": "error",
     "traceback": [
      "\u001b[1;31mThe Kernel crashed while executing code in the the current cell or a previous cell. Please review the code in the cell(s) to identify a possible cause of the failure. Click <a href='https://aka.ms/vscodeJupyterKernelCrash'>here</a> for more info. View Jupyter <a href='command:jupyter.viewOutput'>log</a> for further details."
     ]
    }
   ],
   "source": [
    "learning_rate = 1e-3\n",
    "momentum_val=0.9\n",
    "decay_val= 0.0\n",
    "\n",
    "epochs = 20\n",
    "train_batch_size = 64 # may need to reduce batch size if OOM error occurs\n",
    "test_batch_size = 64\n",
    "\n",
    "reduce_lr = ReduceLROnPlateau(monitor='val_loss', mode='min', factor=0.1, patience=2, min_lr=1e-5, verbose=1)\n",
    "\n",
    "adam_opt = tf.keras.optimizers.Adam(learning_rate=learning_rate, decay=decay_val)\n",
    "adam_opt = tf.keras.mixed_precision.LossScaleOptimizer(adam_opt)\n",
    "\n",
    "model.compile(optimizer=adam_opt,\n",
    "                loss=tf.losses.CategoricalCrossentropy(),\n",
    "                metrics=[\n",
    "                    tf.keras.metrics.AUC(curve='ROC', name='ROC-AUC'),\n",
    "                    tf.keras.metrics.AUC(curve='PR', name='PR-AUC')\n",
    "                ],\n",
    ")"
   ]
  },
  {
   "cell_type": "code",
   "execution_count": 4,
   "metadata": {},
   "outputs": [],
   "source": [
    "train_gen = ImageDataGenerator(\n",
    "            rotation_range=15,\n",
    "            fill_mode='constant',\n",
    "            horizontal_flip=True,\n",
    "            zoom_range=0.1,\n",
    "            preprocessing_function=preprocess_input\n",
    "            )\n",
    "\n",
    "validate_gen = ImageDataGenerator(preprocessing_function=preprocess_input)"
   ]
  },
  {
   "cell_type": "code",
   "execution_count": 7,
   "metadata": {},
   "outputs": [
    {
     "ename": "NameError",
     "evalue": "name 'train_batch_size' is not defined",
     "output_type": "error",
     "traceback": [
      "\u001b[1;31m---------------------------------------------------------------------------\u001b[0m",
      "\u001b[1;31mNameError\u001b[0m                                 Traceback (most recent call last)",
      "\u001b[1;32mc:\\Users\\antho\\Code\\CXR-age\\model.ipynb Cell 11\u001b[0m in \u001b[0;36m<cell line: 7>\u001b[1;34m()\u001b[0m\n\u001b[0;32m      <a href='vscode-notebook-cell:/c%3A/Users/antho/Code/CXR-age/model.ipynb#X12sZmlsZQ%3D%3D?line=3'>4</a>\u001b[0m test_dir \u001b[39m=\u001b[39m \u001b[39mf\u001b[39m\u001b[39m'\u001b[39m\u001b[39m{\u001b[39;00mdata_dir\u001b[39m}\u001b[39;00m\u001b[39m/test\u001b[39m\u001b[39m'\u001b[39m\n\u001b[0;32m      <a href='vscode-notebook-cell:/c%3A/Users/antho/Code/CXR-age/model.ipynb#X12sZmlsZQ%3D%3D?line=4'>5</a>\u001b[0m val_dir \u001b[39m=\u001b[39m \u001b[39mf\u001b[39m\u001b[39m'\u001b[39m\u001b[39m{\u001b[39;00mdata_dir\u001b[39m}\u001b[39;00m\u001b[39m/val\u001b[39m\u001b[39m'\u001b[39m\n\u001b[0;32m      <a href='vscode-notebook-cell:/c%3A/Users/antho/Code/CXR-age/model.ipynb#X12sZmlsZQ%3D%3D?line=6'>7</a>\u001b[0m train_batches \u001b[39m=\u001b[39m train_gen\u001b[39m.\u001b[39mflow_from_directory(\n\u001b[0;32m      <a href='vscode-notebook-cell:/c%3A/Users/antho/Code/CXR-age/model.ipynb#X12sZmlsZQ%3D%3D?line=7'>8</a>\u001b[0m                                 directory\u001b[39m=\u001b[39m train_dir,\n\u001b[0;32m      <a href='vscode-notebook-cell:/c%3A/Users/antho/Code/CXR-age/model.ipynb#X12sZmlsZQ%3D%3D?line=8'>9</a>\u001b[0m                                 classes \u001b[39m=\u001b[39m \u001b[39mNone\u001b[39;00m, \u001b[39m# means automatically infer the label from subdir\u001b[39;00m\n\u001b[0;32m     <a href='vscode-notebook-cell:/c%3A/Users/antho/Code/CXR-age/model.ipynb#X12sZmlsZQ%3D%3D?line=9'>10</a>\u001b[0m                                 class_mode \u001b[39m=\u001b[39m \u001b[39m'\u001b[39m\u001b[39mcategorical\u001b[39m\u001b[39m'\u001b[39m, \u001b[39m# white, black, asian\u001b[39;00m\n\u001b[0;32m     <a href='vscode-notebook-cell:/c%3A/Users/antho/Code/CXR-age/model.ipynb#X12sZmlsZQ%3D%3D?line=10'>11</a>\u001b[0m                                 target_size\u001b[39m=\u001b[39m(HEIGHT, WIDTH),\n\u001b[0;32m     <a href='vscode-notebook-cell:/c%3A/Users/antho/Code/CXR-age/model.ipynb#X12sZmlsZQ%3D%3D?line=11'>12</a>\u001b[0m                                 shuffle\u001b[39m=\u001b[39m\u001b[39mTrue\u001b[39;00m,\n\u001b[0;32m     <a href='vscode-notebook-cell:/c%3A/Users/antho/Code/CXR-age/model.ipynb#X12sZmlsZQ%3D%3D?line=12'>13</a>\u001b[0m                                 seed\u001b[39m=\u001b[39mseed, \n\u001b[1;32m---> <a href='vscode-notebook-cell:/c%3A/Users/antho/Code/CXR-age/model.ipynb#X12sZmlsZQ%3D%3D?line=13'>14</a>\u001b[0m                                 batch_size\u001b[39m=\u001b[39mtrain_batch_size\n\u001b[0;32m     <a href='vscode-notebook-cell:/c%3A/Users/antho/Code/CXR-age/model.ipynb#X12sZmlsZQ%3D%3D?line=14'>15</a>\u001b[0m )\n\u001b[0;32m     <a href='vscode-notebook-cell:/c%3A/Users/antho/Code/CXR-age/model.ipynb#X12sZmlsZQ%3D%3D?line=16'>17</a>\u001b[0m validate_batches \u001b[39m=\u001b[39m validate_gen\u001b[39m.\u001b[39mflow_from_directory(\n\u001b[0;32m     <a href='vscode-notebook-cell:/c%3A/Users/antho/Code/CXR-age/model.ipynb#X12sZmlsZQ%3D%3D?line=17'>18</a>\u001b[0m                                 directory\u001b[39m=\u001b[39m val_dir,\n\u001b[0;32m     <a href='vscode-notebook-cell:/c%3A/Users/antho/Code/CXR-age/model.ipynb#X12sZmlsZQ%3D%3D?line=18'>19</a>\u001b[0m                                 classes \u001b[39m=\u001b[39m \u001b[39mNone\u001b[39;00m, \u001b[39m# means automatically infer the label from subdir\u001b[39;00m\n\u001b[1;32m   (...)\u001b[0m\n\u001b[0;32m     <a href='vscode-notebook-cell:/c%3A/Users/antho/Code/CXR-age/model.ipynb#X12sZmlsZQ%3D%3D?line=23'>24</a>\u001b[0m                                 batch_size\u001b[39m=\u001b[39m test_batch_size\n\u001b[0;32m     <a href='vscode-notebook-cell:/c%3A/Users/antho/Code/CXR-age/model.ipynb#X12sZmlsZQ%3D%3D?line=24'>25</a>\u001b[0m )\n",
      "\u001b[1;31mNameError\u001b[0m: name 'train_batch_size' is not defined"
     ]
    }
   ],
   "source": [
    "data_dir = 'data/imgs_race'\n",
    "\n",
    "train_dir = f'{data_dir}/train'\n",
    "test_dir = f'{data_dir}/test'\n",
    "val_dir = f'{data_dir}/val'\n",
    "\n",
    "train_batches = train_gen.flow_from_directory(\n",
    "                                directory= train_dir,\n",
    "                                classes = None, # means automatically infer the label from subdir\n",
    "                                class_mode = 'categorical', # white, black, asian\n",
    "                                target_size=(HEIGHT, WIDTH),\n",
    "                                shuffle=True,\n",
    "                                seed=seed, \n",
    "                                batch_size=train_batch_size\n",
    ")\n",
    "\n",
    "validate_batches = validate_gen.flow_from_directory(\n",
    "                                directory= val_dir,\n",
    "                                classes = None, # means automatically infer the label from subdir\n",
    "                                class_mode = 'categorical', # white, black, asian\n",
    "                                target_size=(HEIGHT, WIDTH),\n",
    "                                shuffle=False,\n",
    "                                # seed=seed, \n",
    "                                batch_size= test_batch_size\n",
    ")"
   ]
  },
  {
   "cell_type": "code",
   "execution_count": 34,
   "metadata": {},
   "outputs": [
    {
     "name": "stdout",
     "output_type": "stream",
     "text": [
      "557 182\n"
     ]
    }
   ],
   "source": [
    "train_epoch = math.ceil(train_size / train_batch_size)\n",
    "val_epoch = math.ceil(val_size / test_batch_size)\n",
    "print(train_epoch, val_epoch)"
   ]
  },
  {
   "cell_type": "code",
   "execution_count": 21,
   "metadata": {},
   "outputs": [
    {
     "data": {
      "text/plain": [
       "'20221117-153648'"
      ]
     },
     "execution_count": 21,
     "metadata": {},
     "output_type": "execute_result"
    }
   ],
   "source": [
    "var_date = datetime.now().strftime(\"%Y%m%d-%H%M%S\")\n",
    "var_date"
   ]
  },
  {
   "cell_type": "code",
   "execution_count": 33,
   "metadata": {},
   "outputs": [],
   "source": [
    "model_name = 'ResNet50'\n",
    "arc_name = f\"{model_name}_60-20-20-split_3-race_detection\"\n",
    "model_save_fname = \"saved_models/\" + str(arc_name) + \"_LR-\" + str(learning_rate) + \"_\" + var_date+ f\"_epoch_{epoch:03d}_val_loss_{val_loss:.5f}.h5\"\n",
    "\n",
    "ES = EarlyStopping(monitor='val_loss', mode='min', patience=4, restore_best_weights=True)\n",
    "checkloss = ModelCheckpoint(model_save_fname, \n",
    "            monitor='val_loss', mode='min', verbose=1, save_best_only=True, save_weights_only=False)"
   ]
  },
  {
   "cell_type": "code",
   "execution_count": 27,
   "metadata": {},
   "outputs": [
    {
     "name": "stdout",
     "output_type": "stream",
     "text": [
      "05 0.00023\n"
     ]
    }
   ],
   "source": [
    "epoch = 5\n",
    "val_loss = 0.00023423432\n",
    "print(f'{epoch:02d} {val_loss:.5f}')"
   ]
  },
  {
   "cell_type": "code",
   "execution_count": 31,
   "metadata": {},
   "outputs": [],
   "source": [
    "model.fit(train_batches,\n",
    "            validation_data=validate_batches,\n",
    "            epochs=epochs,\n",
    "            steps_per_epoch=int(train_epoch),\n",
    "            validation_steps=int(val_epoch),\n",
    "            #workers=32,\n",
    "            #max_queue_size=50,\n",
    "            shuffle=True,\n",
    "            callbacks=[checkloss, reduce_lr, ES]\n",
    "           )"
   ]
  }
 ],
 "metadata": {
  "kernelspec": {
   "display_name": "Python 3.9.13 ('tf')",
   "language": "python",
   "name": "python3"
  },
  "language_info": {
   "codemirror_mode": {
    "name": "ipython",
    "version": 3
   },
   "file_extension": ".py",
   "mimetype": "text/x-python",
   "name": "python",
   "nbconvert_exporter": "python",
   "pygments_lexer": "ipython3",
   "version": "3.9.13"
  },
  "orig_nbformat": 4,
  "vscode": {
   "interpreter": {
    "hash": "e70f8773578f4b868bb61b386c9d03bafb786dd27355725e49ad26bb1bdc4989"
   }
  }
 },
 "nbformat": 4,
 "nbformat_minor": 2
}
